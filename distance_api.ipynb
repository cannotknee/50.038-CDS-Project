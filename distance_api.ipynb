{
 "cells": [
  {
   "attachments": {},
   "cell_type": "markdown",
   "metadata": {},
   "source": [
    "# BASE CODE"
   ]
  },
  {
   "cell_type": "code",
   "execution_count": null,
   "metadata": {},
   "outputs": [],
   "source": [
    "# Importing the libraries\n",
    "import requests\n",
    "import pandas as pd\n",
    "import numpy as np\n",
    "import matplotlib.pyplot as plt\n",
    "import seaborn as sns"
   ]
  },
  {
   "cell_type": "code",
   "execution_count": null,
   "metadata": {},
   "outputs": [],
   "source": [
    "df = pd.read_csv(\"data/resale-flat-prices-based-on-registration-date-from-jan-2017-onwards.csv\") # OR USE searchData/limitData\n",
    "df = df.drop_duplicates()\n",
    "print(df.dtypes)\n",
    "df.head(2)"
   ]
  },
  {
   "cell_type": "code",
   "execution_count": null,
   "metadata": {},
   "outputs": [],
   "source": [
    "df['year'] = df['month'].apply(lambda x: x.split('-')[0]).astype(int)\n",
    "df['month'] = df['month'].apply(lambda x: x.split('-')[1]).astype(int)\n",
    "\n",
    "# Convert remaining lease from years to months\n",
    "df['month_remaining_lease'] = df['remaining_lease'].apply(lambda x: int(x.split(' ')[0]) * 12 + int(x.split(' ')[2]) if len(x.split(' ')) > 2 else int(x.split(' ')[0]) * 12)\n",
    "\n",
    "# Split storey range into min and max\n",
    "df['storey_range_low'] = df['storey_range'].apply(lambda x: int(x.split('TO')[0]))\n",
    "df['storey_range_high'] = df['storey_range'].apply(lambda x: int(x.split('TO')[1]))\n",
    "\n",
    "# Convert categorical columns to numerical\n",
    "df['flat_model'] = df['flat_model'].astype('category').cat.codes\n",
    "\n",
    "df[['month', 'year', 'town', 'flat_type', 'floor_area_sqm', 'lease_commence_date', 'month_remaining_lease', 'flat_model', 'storey_range_low', 'storey_range_high', 'resale_price']].head(5)"
   ]
  }
 ],
 "metadata": {
  "language_info": {
   "name": "python"
  },
  "orig_nbformat": 4
 },
 "nbformat": 4,
 "nbformat_minor": 2
}
