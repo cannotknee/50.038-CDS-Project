{
 "cells": [
  {
   "attachments": {},
   "cell_type": "markdown",
   "metadata": {},
   "source": [
    "# BASE CODE"
   ]
  },
  {
   "cell_type": "code",
   "execution_count": null,
   "metadata": {},
   "outputs": [],
   "source": [
    "# Importing the libraries\n",
    "import requests\n",
    "import pandas as pd\n",
    "import numpy as np\n",
    "import matplotlib.pyplot as plt\n",
    "import seaborn as sns\n",
    "\n",
    "# Extra libraries\n",
    "import json\n",
    "import googlemaps\n",
    "from datetime import datetime\n",
    "\n",
    "with open('creds.json') as f:\n",
    "    api_key = json.load(f)\n",
    "\n",
    "# API KEY    \n",
    "## api_key['GOOGLE_MAPS_API_KEYS']"
   ]
  },
  {
   "cell_type": "code",
   "execution_count": null,
   "metadata": {},
   "outputs": [],
   "source": [
    "df = pd.read_csv(\"data/resale-flat-prices-based-on-registration-date-from-jan-2017-onwards.csv\") # OR USE searchData/limitData\n",
    "df = df.drop_duplicates()\n",
    "print(df.dtypes)\n",
    "df.head(2)"
   ]
  },
  {
   "cell_type": "code",
   "execution_count": null,
   "metadata": {},
   "outputs": [],
   "source": [
    "df['year'] = df['month'].apply(lambda x: x.split('-')[0]).astype(int)\n",
    "df['month'] = df['month'].apply(lambda x: x.split('-')[1]).astype(int)\n",
    "\n",
    "# Convert remaining lease from years to months\n",
    "df['month_remaining_lease'] = df['remaining_lease'].apply(lambda x: int(x.split(' ')[0]) * 12 + int(x.split(' ')[2]) if len(x.split(' ')) > 2 else int(x.split(' ')[0]) * 12)\n",
    "\n",
    "# Split storey range into min and max\n",
    "df['storey_range_low'] = df['storey_range'].apply(lambda x: int(x.split('TO')[0]))\n",
    "df['storey_range_high'] = df['storey_range'].apply(lambda x: int(x.split('TO')[1]))\n",
    "\n",
    "# Convert categorical columns to numerical\n",
    "df['flat_model'] = df['flat_model'].astype('category').cat.codes\n",
    "\n",
    "df[['month', 'year', 'town', 'flat_type', 'floor_area_sqm', 'lease_commence_date', 'month_remaining_lease', 'flat_model', 'storey_range_low', 'storey_range_high', 'resale_price']].head(5)"
   ]
  },
  {
   "attachments": {},
   "cell_type": "markdown",
   "metadata": {},
   "source": [
    "# ADD ON COLUMNS CODE"
   ]
  },
  {
   "attachments": {},
   "cell_type": "markdown",
   "metadata": {},
   "source": [
    "## 1. Get walking distance to nearest MRT station"
   ]
  },
  {
   "cell_type": "code",
   "execution_count": null,
   "metadata": {},
   "outputs": [],
   "source": [
    "gmaps = googlemaps.Client(key=api_key['GOOGLE_MAPS_API_KEYS'])\n",
    "\n",
    "def get_nearest_stn(addr):\n",
    "    # Request directions via public transit\n",
    "    # Returns Start, End, Total distance\n",
    "\n",
    "    coords = gmaps.geocode(f\"{addr}, Singapore\")\n",
    "    \n",
    "    lat = coords[0]['geometry']['location']['lat']\n",
    "    lng = coords[0]['geometry']['location']['lng']\n",
    "\n",
    "    stn_found = False\n",
    "    radius = 100\n",
    "\n",
    "    while not stn_found:\n",
    "        nearest_station = gmaps.places('MRT', location=(lat, lng), radius=radius)\n",
    "        if len(nearest_station['results']) > 0:\n",
    "            stn_found = True\n",
    "        else:\n",
    "            radius += 100\n",
    "\n",
    "    directions_result = gmaps.directions(f\"{addr}, Singapore\",\n",
    "                                     f\"{nearest_station['results'][0]['formatted_address']}\",\n",
    "                                     mode=\"walking\",\n",
    "                                     departure_time=datetime.now())[0]\n",
    "    \n",
    "    #print(\"START:\", directions_result['legs'][0]['start_address'])\n",
    "    #print(\"END:\", directions_result['legs'][0]['end_address'])\n",
    "    #print(\"DISTANCE:\", directions_result['legs'][0]['distance']['text'])\n",
    "    \n",
    "    return directions_result['legs'][0]['distance']['text'].split(' ')[0]"
   ]
  },
  {
   "cell_type": "code",
   "execution_count": null,
   "metadata": {},
   "outputs": [],
   "source": [
    "for index, row in df.iterrows():\n",
    "    start, end, dist = get_nearest_stn(f\"{row['block']} {row['street_name']}, Singapore\")\n",
    "    df.loc[index, 'dist_to_nearest_stn_walking'] = dist"
   ]
  },
  {
   "attachments": {},
   "cell_type": "markdown",
   "metadata": {},
   "source": [
    "## 2. Get walking distance to nearest mall"
   ]
  },
  {
   "cell_type": "code",
   "execution_count": null,
   "metadata": {},
   "outputs": [],
   "source": []
  },
  {
   "attachments": {},
   "cell_type": "markdown",
   "metadata": {},
   "source": [
    "## 3. Get walking distance to nearest park"
   ]
  },
  {
   "cell_type": "code",
   "execution_count": null,
   "metadata": {},
   "outputs": [],
   "source": []
  }
 ],
 "metadata": {
  "kernelspec": {
   "display_name": "three_nine",
   "language": "python",
   "name": "python3"
  },
  "language_info": {
   "codemirror_mode": {
    "name": "ipython",
    "version": 3
   },
   "file_extension": ".py",
   "mimetype": "text/x-python",
   "name": "python",
   "nbconvert_exporter": "python",
   "pygments_lexer": "ipython3",
   "version": "3.9.7"
  },
  "orig_nbformat": 4
 },
 "nbformat": 4,
 "nbformat_minor": 2
}
